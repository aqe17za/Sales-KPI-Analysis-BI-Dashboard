{
 "cells": [
  {
   "cell_type": "code",
   "execution_count": 4,
   "id": "5924636c-f65e-4b9f-8f7a-4bc15cb4b553",
   "metadata": {},
   "outputs": [],
   "source": [
    "import pandas as pd\n",
    "\n"
   ]
  },
  {
   "cell_type": "code",
   "execution_count": 5,
   "id": "e66682c9-4228-489e-8955-c825fd7b4fde",
   "metadata": {},
   "outputs": [
    {
     "name": "stdout",
     "output_type": "stream",
     "text": [
      "First 5 rows:\n"
     ]
    },
    {
     "data": {
      "text/html": [
       "<div>\n",
       "<style scoped>\n",
       "    .dataframe tbody tr th:only-of-type {\n",
       "        vertical-align: middle;\n",
       "    }\n",
       "\n",
       "    .dataframe tbody tr th {\n",
       "        vertical-align: top;\n",
       "    }\n",
       "\n",
       "    .dataframe thead th {\n",
       "        text-align: right;\n",
       "    }\n",
       "</style>\n",
       "<table border=\"1\" class=\"dataframe\">\n",
       "  <thead>\n",
       "    <tr style=\"text-align: right;\">\n",
       "      <th></th>\n",
       "      <th>CustomerID</th>\n",
       "      <th>Recency</th>\n",
       "      <th>Frequency</th>\n",
       "      <th>Monetary</th>\n",
       "      <th>R_Score</th>\n",
       "      <th>F_Score</th>\n",
       "      <th>M_Score</th>\n",
       "    </tr>\n",
       "  </thead>\n",
       "  <tbody>\n",
       "    <tr>\n",
       "      <th>0</th>\n",
       "      <td>B-25601</td>\n",
       "      <td>364</td>\n",
       "      <td>19</td>\n",
       "      <td>-1218</td>\n",
       "      <td>NaN</td>\n",
       "      <td>NaN</td>\n",
       "      <td>NaN</td>\n",
       "    </tr>\n",
       "    <tr>\n",
       "      <th>1</th>\n",
       "      <td>B-25602</td>\n",
       "      <td>364</td>\n",
       "      <td>22</td>\n",
       "      <td>975</td>\n",
       "      <td>NaN</td>\n",
       "      <td>NaN</td>\n",
       "      <td>NaN</td>\n",
       "    </tr>\n",
       "    <tr>\n",
       "      <th>2</th>\n",
       "      <td>B-25603</td>\n",
       "      <td>362</td>\n",
       "      <td>25</td>\n",
       "      <td>-180</td>\n",
       "      <td>NaN</td>\n",
       "      <td>NaN</td>\n",
       "      <td>NaN</td>\n",
       "    </tr>\n",
       "    <tr>\n",
       "      <th>3</th>\n",
       "      <td>B-25604</td>\n",
       "      <td>362</td>\n",
       "      <td>11</td>\n",
       "      <td>22</td>\n",
       "      <td>NaN</td>\n",
       "      <td>NaN</td>\n",
       "      <td>NaN</td>\n",
       "    </tr>\n",
       "    <tr>\n",
       "      <th>4</th>\n",
       "      <td>B-25605</td>\n",
       "      <td>360</td>\n",
       "      <td>7</td>\n",
       "      <td>0</td>\n",
       "      <td>NaN</td>\n",
       "      <td>NaN</td>\n",
       "      <td>NaN</td>\n",
       "    </tr>\n",
       "  </tbody>\n",
       "</table>\n",
       "</div>"
      ],
      "text/plain": [
       "  CustomerID  Recency  Frequency  Monetary  R_Score  F_Score  M_Score\n",
       "0    B-25601      364         19     -1218      NaN      NaN      NaN\n",
       "1    B-25602      364         22       975      NaN      NaN      NaN\n",
       "2    B-25603      362         25      -180      NaN      NaN      NaN\n",
       "3    B-25604      362         11        22      NaN      NaN      NaN\n",
       "4    B-25605      360          7         0      NaN      NaN      NaN"
      ]
     },
     "metadata": {},
     "output_type": "display_data"
    }
   ],
   "source": [
    "# Make sure 'RFM_Input.xlsx' is in the same folder as your notebook\n",
    "df = pd.read_excel('RFM_Input.xlsx', engine='openpyxl')\n",
    "\n",
    "# Rename columns to simpler names\n",
    "df = df.rename(columns={\n",
    "    'Row Labels': 'CustomerID',\n",
    "    'Min of Recency': 'Recency',\n",
    "    'Sum of Quantity': 'Frequency',\n",
    "    'Sum of Profit': 'Monetary'\n",
    "})\n",
    "\n",
    "# Verify data loaded correctly\n",
    "print(\"First 5 rows:\")\n",
    "display(df.head())"
   ]
  },
  {
   "cell_type": "code",
   "execution_count": 6,
   "id": "4f7a92e5-8c20-49ee-a984-3cca866fc87e",
   "metadata": {},
   "outputs": [],
   "source": [
    "def calculate_r_score(recency):\n",
    "    if recency == 364 or recency > 253: return 1\n",
    "    elif recency >= 253 or recency > 145: return 2\n",
    "    elif recency >= 145 or recency > 65: return 3\n",
    "    else: return 4\n",
    "\n",
    "def calculate_f_score(frequency):\n",
    "    if frequency == 57 or frequency > 35: return 4\n",
    "    elif frequency >= 35 or frequency > 15: return 3\n",
    "    elif frequency >= 15 or frequency > 5: return 2\n",
    "    else: return 1\n",
    "\n",
    "def calculate_m_score(monetary):\n",
    "    if monetary == 1970 or monetary > 500: return 4\n",
    "    elif monetary >= 500 or monetary > 22: return 3\n",
    "    elif monetary >= 22 or monetary > -22: return 2\n",
    "    else: return 1"
   ]
  },
  {
   "cell_type": "code",
   "execution_count": 7,
   "id": "38845349-552c-4f56-81e5-ce3ec1968f3a",
   "metadata": {},
   "outputs": [
    {
     "name": "stdout",
     "output_type": "stream",
     "text": [
      "\n",
      "Scores calculated:\n"
     ]
    },
    {
     "data": {
      "text/html": [
       "<div>\n",
       "<style scoped>\n",
       "    .dataframe tbody tr th:only-of-type {\n",
       "        vertical-align: middle;\n",
       "    }\n",
       "\n",
       "    .dataframe tbody tr th {\n",
       "        vertical-align: top;\n",
       "    }\n",
       "\n",
       "    .dataframe thead th {\n",
       "        text-align: right;\n",
       "    }\n",
       "</style>\n",
       "<table border=\"1\" class=\"dataframe\">\n",
       "  <thead>\n",
       "    <tr style=\"text-align: right;\">\n",
       "      <th></th>\n",
       "      <th>CustomerID</th>\n",
       "      <th>R_Score</th>\n",
       "      <th>F_Score</th>\n",
       "      <th>M_Score</th>\n",
       "      <th>RFM_Score</th>\n",
       "    </tr>\n",
       "  </thead>\n",
       "  <tbody>\n",
       "    <tr>\n",
       "      <th>0</th>\n",
       "      <td>B-25601</td>\n",
       "      <td>1</td>\n",
       "      <td>3</td>\n",
       "      <td>1</td>\n",
       "      <td>131</td>\n",
       "    </tr>\n",
       "    <tr>\n",
       "      <th>1</th>\n",
       "      <td>B-25602</td>\n",
       "      <td>1</td>\n",
       "      <td>3</td>\n",
       "      <td>4</td>\n",
       "      <td>134</td>\n",
       "    </tr>\n",
       "    <tr>\n",
       "      <th>2</th>\n",
       "      <td>B-25603</td>\n",
       "      <td>1</td>\n",
       "      <td>3</td>\n",
       "      <td>1</td>\n",
       "      <td>131</td>\n",
       "    </tr>\n",
       "    <tr>\n",
       "      <th>3</th>\n",
       "      <td>B-25604</td>\n",
       "      <td>1</td>\n",
       "      <td>2</td>\n",
       "      <td>2</td>\n",
       "      <td>122</td>\n",
       "    </tr>\n",
       "    <tr>\n",
       "      <th>4</th>\n",
       "      <td>B-25605</td>\n",
       "      <td>1</td>\n",
       "      <td>2</td>\n",
       "      <td>2</td>\n",
       "      <td>122</td>\n",
       "    </tr>\n",
       "  </tbody>\n",
       "</table>\n",
       "</div>"
      ],
      "text/plain": [
       "  CustomerID  R_Score  F_Score  M_Score  RFM_Score\n",
       "0    B-25601        1        3        1        131\n",
       "1    B-25602        1        3        4        134\n",
       "2    B-25603        1        3        1        131\n",
       "3    B-25604        1        2        2        122\n",
       "4    B-25605        1        2        2        122"
      ]
     },
     "metadata": {},
     "output_type": "display_data"
    }
   ],
   "source": [
    "# Apply scoring functions\n",
    "df['R_Score'] = df['Recency'].apply(calculate_r_score)\n",
    "df['F_Score'] = df['Frequency'].apply(calculate_f_score)\n",
    "df['M_Score'] = df['Monetary'].apply(calculate_m_score)\n",
    "\n",
    "# Calculate composite RFM score\n",
    "df['RFM_Score'] = (df['R_Score'] * 100) + (df['F_Score'] * 10) + df['M_Score']\n",
    "\n",
    "# Verify calculations\n",
    "print(\"\\nScores calculated:\")\n",
    "display(df[['CustomerID', 'R_Score', 'F_Score', 'M_Score', 'RFM_Score']].head())"
   ]
  },
  {
   "cell_type": "code",
   "execution_count": 8,
   "id": "2d53c331-0906-4544-8340-05307cd9adb5",
   "metadata": {},
   "outputs": [
    {
     "name": "stdout",
     "output_type": "stream",
     "text": [
      "\n",
      "Customer segments:\n"
     ]
    },
    {
     "data": {
      "text/plain": [
       "Segment\n",
       "Gold        174\n",
       "Bronze      125\n",
       "Silver      125\n",
       "Platinum     76\n",
       "Name: count, dtype: int64"
      ]
     },
     "metadata": {},
     "output_type": "display_data"
    }
   ],
   "source": [
    "def segment_customer(score):\n",
    "    if score == 444 or score > 421: return \"Platinum\"\n",
    "    elif score >= 421 or score > 277: return \"Gold\"\n",
    "    elif score >= 277 or score > 194: return \"Silver\"\n",
    "    else: return \"Bronze\"\n",
    "\n",
    "df['Segment'] = df['RFM_Score'].apply(segment_customer)\n",
    "\n",
    "# Show segment distribution\n",
    "print(\"\\nCustomer segments:\")\n",
    "display(df['Segment'].value_counts())"
   ]
  },
  {
   "cell_type": "code",
   "execution_count": 9,
   "id": "20502cb3-9255-491e-9b1d-98a7196dec8c",
   "metadata": {},
   "outputs": [
    {
     "name": "stdout",
     "output_type": "stream",
     "text": [
      "\n",
      "Results saved to 'RFM_Results.xlsx'\n",
      "\n",
      "Top 10 Customers:\n"
     ]
    },
    {
     "data": {
      "text/html": [
       "<div>\n",
       "<style scoped>\n",
       "    .dataframe tbody tr th:only-of-type {\n",
       "        vertical-align: middle;\n",
       "    }\n",
       "\n",
       "    .dataframe tbody tr th {\n",
       "        vertical-align: top;\n",
       "    }\n",
       "\n",
       "    .dataframe thead th {\n",
       "        text-align: right;\n",
       "    }\n",
       "</style>\n",
       "<table border=\"1\" class=\"dataframe\">\n",
       "  <thead>\n",
       "    <tr style=\"text-align: right;\">\n",
       "      <th></th>\n",
       "      <th>CustomerID</th>\n",
       "      <th>RFM_Score</th>\n",
       "      <th>Segment</th>\n",
       "    </tr>\n",
       "  </thead>\n",
       "  <tbody>\n",
       "    <tr>\n",
       "      <th>454</th>\n",
       "      <td>B-26055</td>\n",
       "      <td>444</td>\n",
       "      <td>Platinum</td>\n",
       "    </tr>\n",
       "    <tr>\n",
       "      <th>450</th>\n",
       "      <td>B-26051</td>\n",
       "      <td>444</td>\n",
       "      <td>Platinum</td>\n",
       "    </tr>\n",
       "    <tr>\n",
       "      <th>398</th>\n",
       "      <td>B-25999</td>\n",
       "      <td>443</td>\n",
       "      <td>Platinum</td>\n",
       "    </tr>\n",
       "    <tr>\n",
       "      <th>455</th>\n",
       "      <td>B-26056</td>\n",
       "      <td>443</td>\n",
       "      <td>Platinum</td>\n",
       "    </tr>\n",
       "    <tr>\n",
       "      <th>472</th>\n",
       "      <td>B-26073</td>\n",
       "      <td>434</td>\n",
       "      <td>Platinum</td>\n",
       "    </tr>\n",
       "    <tr>\n",
       "      <th>447</th>\n",
       "      <td>B-26048</td>\n",
       "      <td>434</td>\n",
       "      <td>Platinum</td>\n",
       "    </tr>\n",
       "    <tr>\n",
       "      <th>392</th>\n",
       "      <td>B-25993</td>\n",
       "      <td>434</td>\n",
       "      <td>Platinum</td>\n",
       "    </tr>\n",
       "    <tr>\n",
       "      <th>492</th>\n",
       "      <td>B-26093</td>\n",
       "      <td>434</td>\n",
       "      <td>Platinum</td>\n",
       "    </tr>\n",
       "    <tr>\n",
       "      <th>384</th>\n",
       "      <td>B-25985</td>\n",
       "      <td>433</td>\n",
       "      <td>Platinum</td>\n",
       "    </tr>\n",
       "    <tr>\n",
       "      <th>442</th>\n",
       "      <td>B-26043</td>\n",
       "      <td>433</td>\n",
       "      <td>Platinum</td>\n",
       "    </tr>\n",
       "  </tbody>\n",
       "</table>\n",
       "</div>"
      ],
      "text/plain": [
       "    CustomerID  RFM_Score   Segment\n",
       "454    B-26055        444  Platinum\n",
       "450    B-26051        444  Platinum\n",
       "398    B-25999        443  Platinum\n",
       "455    B-26056        443  Platinum\n",
       "472    B-26073        434  Platinum\n",
       "447    B-26048        434  Platinum\n",
       "392    B-25993        434  Platinum\n",
       "492    B-26093        434  Platinum\n",
       "384    B-25985        433  Platinum\n",
       "442    B-26043        433  Platinum"
      ]
     },
     "metadata": {},
     "output_type": "display_data"
    }
   ],
   "source": [
    "# Save to new Excel file\n",
    "df.to_excel('RFM_Results.xlsx', index=False)\n",
    "print(\"\\nResults saved to 'RFM_Results.xlsx'\")\n",
    "\n",
    "# Show top customers\n",
    "print(\"\\nTop 10 Customers:\")\n",
    "top_customers = df.sort_values('RFM_Score', ascending=False).head(10)\n",
    "display(top_customers[['CustomerID', 'RFM_Score', 'Segment']])"
   ]
  },
  {
   "cell_type": "code",
   "execution_count": 10,
   "id": "95f4717c-fdb7-4433-a56d-bfb72947d45e",
   "metadata": {},
   "outputs": [
    {
     "data": {
      "image/png": "[encoded data removed]",
      "text/plain": [
       "<Figure size 640x480 with 1 Axes>"
      ]
     },
     "metadata": {},
     "output_type": "display_data"
    }
   ],
   "source": [
    "import matplotlib.pyplot as plt\n",
    "\n",
    "# Plot segment distribution\n",
    "df['Segment'].value_counts().sort_index().plot(\n",
    "    kind='bar', \n",
    "    color=['#CD7F32', '#C0C0C0', '#FFD700', '#E5E4E2'],\n",
    "    title='Customer Segments'\n",
    ")\n",
    "plt.ylabel('Number of Customers')\n",
    "plt.show()"
   ]
  },
  {
   "cell_type": "code",
   "execution_count": 11,
   "id": "bd771df3-b2c9-4165-93bc-788316825a41",
   "metadata": {},
   "outputs": [
    {
     "name": "stdout",
     "output_type": "stream",
     "text": [
      "Output saved to: C:\\Users\\zayan\\PROJECTS\\E-Sales KPI Dashboard\\RFM_Results.xlsx\n"
     ]
    }
   ],
   "source": [
    "import os\n",
    "print(\"Output saved to:\", os.path.abspath(\"RFM_Results.xlsx\"))"
   ]
  }
 ],
 "metadata": {
  "kernelspec": {
   "display_name": "Python 3 (ipykernel)",
   "language": "python",
   "name": "python3"
  },
  "language_info": {
   "codemirror_mode": {
    "name": "ipython",
    "version": 3
   },
   "file_extension": ".py",
   "mimetype": "text/x-python",
   "name": "python",
   "nbconvert_exporter": "python",
   "pygments_lexer": "ipython3",
   "version": "3.12.8"
  }
 },
 "nbformat": 4,
 "nbformat_minor": 5
}
